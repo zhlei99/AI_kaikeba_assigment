{
 "cells": [
  {
   "cell_type": "markdown",
   "metadata": {},
   "source": [
    "这个程序有什么用：\n",
    "只能客服机器人\n",
    "微软小冰\n",
    "大量的if...else，大量的规则要做的时候\n",
    "一旦场景变了，很多代码重写。  \n",
    "\n",
    "## Data Driven\n",
    "\n",
    "期望我们的程序，能够根据数据的输入，自动改变程序"
   ]
  },
  {
   "cell_type": "code",
   "execution_count": 3,
   "metadata": {},
   "outputs": [],
   "source": [
    "hello_rules = '''\n",
    "say_hello = name hello tail\n",
    "names = name names | name\n",
    "name = Jhon | Mike | 老梁 | 老刘\n",
    "hello = 你好 | 您来啦 | 快请进\n",
    "tail = 呀 | ！\n",
    "'''"
   ]
  },
  {
   "cell_type": "code",
   "execution_count": 6,
   "metadata": {},
   "outputs": [],
   "source": [
    "rules = dict() #key is the @statement, value is @expression"
   ]
  },
  {
   "cell_type": "code",
   "execution_count": 7,
   "metadata": {},
   "outputs": [
    {
     "data": {
      "text/plain": [
       "'add number + number'"
      ]
     },
     "execution_count": 7,
     "metadata": {},
     "output_type": "execute_result"
    }
   ],
   "source": [
    "'add number + number'"
   ]
  },
  {
   "cell_type": "code",
   "execution_count": 8,
   "metadata": {},
   "outputs": [],
   "source": [
    "def get_generation_by_gram(grammar_str : str, target, stmt_split = '=' , or_split = '|'):\n",
    "    \n",
    "    #把语法规则编程一个字典存储的内容\n",
    "    rules = dict() #key is the @statement, value is @expression    \n",
    "    for line in grammar_str.split('\\n'):\n",
    "        if not line: continue\n",
    "        # skip the empty line\n",
    "        #print (line)\n",
    "        stmt, expr = line.split(stmt_split)\n",
    "\n",
    "        #print (stmt, expr.split(or_split))\n",
    "\n",
    "        rules[stmt.strip()] = expr.split(or_split)\n",
    "    print (rules)\n",
    "    #生成句子\n",
    "    generated = generate(rules,  target)\n",
    "    return generated\n",
    "       "
   ]
  },
  {
   "cell_type": "code",
   "execution_count": 9,
   "metadata": {},
   "outputs": [],
   "source": [
    "#根据语法字典，与需要的目标，生成一个可随机变化的语句\n",
    "def generate(grammar_rule, target):\n",
    "    \n",
    "    if  target in grammar_rule : #names\n",
    "        condidates = grammar_rule[target] #['name names', name]\n",
    "        candidate = random.choice(condidates)\n",
    "        return ''.join(generate(grammar_rule, target = c.strip()) for c in candidate.split(' ')) #递归\n",
    "    else:\n",
    "        return target\n",
    "    "
   ]
  },
  {
   "cell_type": "code",
   "execution_count": 10,
   "metadata": {},
   "outputs": [],
   "source": [
    "simple_grammar = \"\"\"\n",
    "sentence => noun_phrase verb_phrase\n",
    "noun_phrase => Article Adj* noun\n",
    "Adj* => Adj | Adj Adj*\n",
    "verb_phrase => verb noun_phrase\n",
    "Article =>  一个 | 这个\n",
    "noun =>   女人 |  篮球 | 桌子 | 小猫\n",
    "verb => 看着   |  坐在 |  听着 | 看见\n",
    "Adj =>  蓝色的 | 好看的 | 小小的\n",
    "\"\"\""
   ]
  },
  {
   "cell_type": "code",
   "execution_count": 62,
   "metadata": {},
   "outputs": [],
   "source": [
    "simple_programming = '''\n",
    "if_stmt => if ( condition ) { stmt }\n",
    "condition => var op var\n",
    "op => > | == | < | >= | <=\n",
    "stmt => assign | if_stmt\n",
    "assign => var = var \n",
    "var => char var | char\n",
    "char => a | b | c | d | 0 | 1 | 2 | 3\n",
    "\n",
    "\n",
    "\n",
    "'''"
   ]
  },
  {
   "cell_type": "code",
   "execution_count": 52,
   "metadata": {
    "scrolled": true
   },
   "outputs": [
    {
     "name": "stdout",
     "output_type": "stream",
     "text": [
      "{'if_stmt': [' if ( condition ) { stmt }'], 'condition': [' var op var'], 'op': [' > ', ' == ', ' < ', ' >= ', ' <='], 'stmt': [' assign ', ' if_stmt'], 'assign': [' var = var '], 'var': [' char var ', ' char'], 'char': [' a ', ' b ', ' c ', ' d ', ' 0 ', ' 1 ', ' 2 ', ' 3']}\n",
      "if(13<b){bc=112ab}\n",
      "{'if_stmt': [' if ( condition ) { stmt }'], 'condition': [' var op var'], 'op': [' > ', ' == ', ' < ', ' >= ', ' <='], 'stmt': [' assign ', ' if_stmt'], 'assign': [' var = var '], 'var': [' char var ', ' char'], 'char': [' a ', ' b ', ' c ', ' d ', ' 0 ', ' 1 ', ' 2 ', ' 3']}\n",
      "if(0>=02){3c=d}\n",
      "{'if_stmt': [' if ( condition ) { stmt }'], 'condition': [' var op var'], 'op': [' > ', ' == ', ' < ', ' >= ', ' <='], 'stmt': [' assign ', ' if_stmt'], 'assign': [' var = var '], 'var': [' char var ', ' char'], 'char': [' a ', ' b ', ' c ', ' d ', ' 0 ', ' 1 ', ' 2 ', ' 3']}\n",
      "if(02d>20c){ba0c0b=cc}\n",
      "{'if_stmt': [' if ( condition ) { stmt }'], 'condition': [' var op var'], 'op': [' > ', ' == ', ' < ', ' >= ', ' <='], 'stmt': [' assign ', ' if_stmt'], 'assign': [' var = var '], 'var': [' char var ', ' char'], 'char': [' a ', ' b ', ' c ', ' d ', ' 0 ', ' 1 ', ' 2 ', ' 3']}\n",
      "if(1a1b11ab==32){1=a13}\n",
      "{'if_stmt': [' if ( condition ) { stmt }'], 'condition': [' var op var'], 'op': [' > ', ' == ', ' < ', ' >= ', ' <='], 'stmt': [' assign ', ' if_stmt'], 'assign': [' var = var '], 'var': [' char var ', ' char'], 'char': [' a ', ' b ', ' c ', ' d ', ' 0 ', ' 1 ', ' 2 ', ' 3']}\n",
      "if(2a<c3){if(acb>33){3a=0}}\n",
      "{'if_stmt': [' if ( condition ) { stmt }'], 'condition': [' var op var'], 'op': [' > ', ' == ', ' < ', ' >= ', ' <='], 'stmt': [' assign ', ' if_stmt'], 'assign': [' var = var '], 'var': [' char var ', ' char'], 'char': [' a ', ' b ', ' c ', ' d ', ' 0 ', ' 1 ', ' 2 ', ' 3']}\n",
      "if(db==3){if(a03d==00){if(0==0){if(1>20b21){if(b>=3){if(d>=13){if(d<d3){if(c>=0){122=1002}}}}}}}}\n",
      "{'if_stmt': [' if ( condition ) { stmt }'], 'condition': [' var op var'], 'op': [' > ', ' == ', ' < ', ' >= ', ' <='], 'stmt': [' assign ', ' if_stmt'], 'assign': [' var = var '], 'var': [' char var ', ' char'], 'char': [' a ', ' b ', ' c ', ' d ', ' 0 ', ' 1 ', ' 2 ', ' 3']}\n",
      "if(b<=2){if(3>=3){1d=2}}\n",
      "{'if_stmt': [' if ( condition ) { stmt }'], 'condition': [' var op var'], 'op': [' > ', ' == ', ' < ', ' >= ', ' <='], 'stmt': [' assign ', ' if_stmt'], 'assign': [' var = var '], 'var': [' char var ', ' char'], 'char': [' a ', ' b ', ' c ', ' d ', ' 0 ', ' 1 ', ' 2 ', ' 3']}\n",
      "if(0d1a<=3){2=2}\n",
      "{'if_stmt': [' if ( condition ) { stmt }'], 'condition': [' var op var'], 'op': [' > ', ' == ', ' < ', ' >= ', ' <='], 'stmt': [' assign ', ' if_stmt'], 'assign': [' var = var '], 'var': [' char var ', ' char'], 'char': [' a ', ' b ', ' c ', ' d ', ' 0 ', ' 1 ', ' 2 ', ' 3']}\n",
      "if(3>1){daa2bbc=1d}\n",
      "{'if_stmt': [' if ( condition ) { stmt }'], 'condition': [' var op var'], 'op': [' > ', ' == ', ' < ', ' >= ', ' <='], 'stmt': [' assign ', ' if_stmt'], 'assign': [' var = var '], 'var': [' char var ', ' char'], 'char': [' a ', ' b ', ' c ', ' d ', ' 0 ', ' 1 ', ' 2 ', ' 3']}\n",
      "if(1c>c1c3){b=0}\n",
      "{'if_stmt': [' if ( condition ) { stmt }'], 'condition': [' var op var'], 'op': [' > ', ' == ', ' < ', ' >= ', ' <='], 'stmt': [' assign ', ' if_stmt'], 'assign': [' var = var '], 'var': [' char var ', ' char'], 'char': [' a ', ' b ', ' c ', ' d ', ' 0 ', ' 1 ', ' 2 ', ' 3']}\n",
      "if(1==13a1){if(2>=c1){c=c}}\n",
      "{'if_stmt': [' if ( condition ) { stmt }'], 'condition': [' var op var'], 'op': [' > ', ' == ', ' < ', ' >= ', ' <='], 'stmt': [' assign ', ' if_stmt'], 'assign': [' var = var '], 'var': [' char var ', ' char'], 'char': [' a ', ' b ', ' c ', ' d ', ' 0 ', ' 1 ', ' 2 ', ' 3']}\n",
      "if(22>=0){dbb3=c1}\n",
      "{'if_stmt': [' if ( condition ) { stmt }'], 'condition': [' var op var'], 'op': [' > ', ' == ', ' < ', ' >= ', ' <='], 'stmt': [' assign ', ' if_stmt'], 'assign': [' var = var '], 'var': [' char var ', ' char'], 'char': [' a ', ' b ', ' c ', ' d ', ' 0 ', ' 1 ', ' 2 ', ' 3']}\n",
      "if(0<=0){if(2b>=a0){a01c2=0}}\n",
      "{'if_stmt': [' if ( condition ) { stmt }'], 'condition': [' var op var'], 'op': [' > ', ' == ', ' < ', ' >= ', ' <='], 'stmt': [' assign ', ' if_stmt'], 'assign': [' var = var '], 'var': [' char var ', ' char'], 'char': [' a ', ' b ', ' c ', ' d ', ' 0 ', ' 1 ', ' 2 ', ' 3']}\n",
      "if(a32>=a){2c0=21}\n",
      "{'if_stmt': [' if ( condition ) { stmt }'], 'condition': [' var op var'], 'op': [' > ', ' == ', ' < ', ' >= ', ' <='], 'stmt': [' assign ', ' if_stmt'], 'assign': [' var = var '], 'var': [' char var ', ' char'], 'char': [' a ', ' b ', ' c ', ' d ', ' 0 ', ' 1 ', ' 2 ', ' 3']}\n",
      "if(d<=0a0a2ab){cac=bb}\n",
      "{'if_stmt': [' if ( condition ) { stmt }'], 'condition': [' var op var'], 'op': [' > ', ' == ', ' < ', ' >= ', ' <='], 'stmt': [' assign ', ' if_stmt'], 'assign': [' var = var '], 'var': [' char var ', ' char'], 'char': [' a ', ' b ', ' c ', ' d ', ' 0 ', ' 1 ', ' 2 ', ' 3']}\n",
      "if(d<d){if(a1<=cd){if(c3c0<=3b22){2=a0}}}\n",
      "{'if_stmt': [' if ( condition ) { stmt }'], 'condition': [' var op var'], 'op': [' > ', ' == ', ' < ', ' >= ', ' <='], 'stmt': [' assign ', ' if_stmt'], 'assign': [' var = var '], 'var': [' char var ', ' char'], 'char': [' a ', ' b ', ' c ', ' d ', ' 0 ', ' 1 ', ' 2 ', ' 3']}\n",
      "if(0d==2){if(a3db3>=db){if(1<c1){2=2d}}}\n",
      "{'if_stmt': [' if ( condition ) { stmt }'], 'condition': [' var op var'], 'op': [' > ', ' == ', ' < ', ' >= ', ' <='], 'stmt': [' assign ', ' if_stmt'], 'assign': [' var = var '], 'var': [' char var ', ' char'], 'char': [' a ', ' b ', ' c ', ' d ', ' 0 ', ' 1 ', ' 2 ', ' 3']}\n",
      "if(22<=c){if(20<=0){1=d}}\n",
      "{'if_stmt': [' if ( condition ) { stmt }'], 'condition': [' var op var'], 'op': [' > ', ' == ', ' < ', ' >= ', ' <='], 'stmt': [' assign ', ' if_stmt'], 'assign': [' var = var '], 'var': [' char var ', ' char'], 'char': [' a ', ' b ', ' c ', ' d ', ' 0 ', ' 1 ', ' 2 ', ' 3']}\n",
      "if(c==1){c=d0a}\n",
      "{'if_stmt': [' if ( condition ) { stmt }'], 'condition': [' var op var'], 'op': [' > ', ' == ', ' < ', ' >= ', ' <='], 'stmt': [' assign ', ' if_stmt'], 'assign': [' var = var '], 'var': [' char var ', ' char'], 'char': [' a ', ' b ', ' c ', ' d ', ' 0 ', ' 1 ', ' 2 ', ' 3']}\n",
      "if(3>=23a2){0=0}\n"
     ]
    }
   ],
   "source": [
    "for i in range(20):\n",
    "    print(get_generation_by_gram(simple_programming, target='if_stmt', stmt_split='=>'))"
   ]
  },
  {
   "cell_type": "code",
   "execution_count": 53,
   "metadata": {},
   "outputs": [
    {
     "name": "stdout",
     "output_type": "stream",
     "text": [
      "{'sentence': [' noun_phrase verb_phrase'], 'noun_phrase': [' Article Adj* noun'], 'Adj*': [' Adj ', ' Adj Adj*'], 'verb_phrase': [' verb noun_phrase'], 'Article': ['  一个 ', ' 这个'], 'noun': ['   女人 ', '  篮球 ', ' 桌子 ', ' 小猫'], 'verb': [' 看着   ', '  坐在 ', '  听着 ', ' 看见'], 'Adj': ['  蓝色的 ', ' 好看的 ', ' 小小的']}\n"
     ]
    },
    {
     "data": {
      "text/plain": [
       "'一个小小的女人坐在一个蓝色的桌子'"
      ]
     },
     "execution_count": 53,
     "metadata": {},
     "output_type": "execute_result"
    }
   ],
   "source": [
    "get_generation_by_gram(simple_grammar, target='sentence', stmt_split='=>')"
   ]
  },
  {
   "cell_type": "code",
   "execution_count": 38,
   "metadata": {},
   "outputs": [
    {
     "ename": "NameError",
     "evalue": "name 'rules' is not defined",
     "output_type": "error",
     "traceback": [
      "\u001b[0;31m---------------------------------------------------------------------------\u001b[0m",
      "\u001b[0;31mNameError\u001b[0m                                 Traceback (most recent call last)",
      "\u001b[0;32m<ipython-input-38-d2b2baa1968e>\u001b[0m in \u001b[0;36m<module>\u001b[0;34m()\u001b[0m\n\u001b[0;32m----> 1\u001b[0;31m \u001b[0mcondidates\u001b[0m \u001b[0;34m=\u001b[0m \u001b[0mrules\u001b[0m\u001b[0;34m[\u001b[0m\u001b[0;34m'name'\u001b[0m\u001b[0;34m]\u001b[0m\u001b[0;34m\u001b[0m\u001b[0;34m\u001b[0m\u001b[0m\n\u001b[0m\u001b[1;32m      2\u001b[0m \u001b[0mcandidate\u001b[0m \u001b[0;34m=\u001b[0m \u001b[0mrandom\u001b[0m\u001b[0;34m.\u001b[0m\u001b[0mchoice\u001b[0m\u001b[0;34m(\u001b[0m\u001b[0mcondidates\u001b[0m\u001b[0;34m)\u001b[0m\u001b[0;34m\u001b[0m\u001b[0;34m\u001b[0m\u001b[0m\n\u001b[1;32m      3\u001b[0m \u001b[0mprint\u001b[0m \u001b[0;34m(\u001b[0m\u001b[0mcandidate\u001b[0m\u001b[0;34m)\u001b[0m\u001b[0;34m\u001b[0m\u001b[0;34m\u001b[0m\u001b[0m\n",
      "\u001b[0;31mNameError\u001b[0m: name 'rules' is not defined"
     ]
    }
   ],
   "source": [
    "condidates = rules['name']\n",
    "candidate = random.choice(condidates)\n",
    "print (candidate)"
   ]
  },
  {
   "cell_type": "code",
   "execution_count": 16,
   "metadata": {},
   "outputs": [
    {
     "data": {
      "text/plain": [
       "'say_hello'"
      ]
     },
     "execution_count": 16,
     "metadata": {},
     "output_type": "execute_result"
    }
   ],
   "source": [
    "generate(rules, target='say_hello')"
   ]
  },
  {
   "cell_type": "code",
   "execution_count": 14,
   "metadata": {},
   "outputs": [],
   "source": [
    "import random"
   ]
  },
  {
   "cell_type": "code",
   "execution_count": 18,
   "metadata": {},
   "outputs": [],
   "source": [
    "def name ():\n",
    "    return random.choice('Jhon | Mike | 老梁'.split('|'))"
   ]
  },
  {
   "cell_type": "code",
   "execution_count": 19,
   "metadata": {},
   "outputs": [],
   "source": [
    "def hello():\n",
    "    return random.choice('你好 | 您来啦 | 快请进'.split('|'))\n"
   ]
  },
  {
   "cell_type": "code",
   "execution_count": 20,
   "metadata": {},
   "outputs": [],
   "source": [
    "def say_hello():\n",
    "    return name() + ' ' + hello()"
   ]
  },
  {
   "cell_type": "code",
   "execution_count": 21,
   "metadata": {},
   "outputs": [
    {
     "data": {
      "text/plain": [
       "' 老梁  快请进'"
      ]
     },
     "execution_count": 21,
     "metadata": {},
     "output_type": "execute_result"
    }
   ],
   "source": [
    "say_hello()"
   ]
  },
  {
   "cell_type": "code",
   "execution_count": 10,
   "metadata": {},
   "outputs": [],
   "source": [
    "corpus = 'article_9k.txt'"
   ]
  },
  {
   "cell_type": "code",
   "execution_count": 11,
   "metadata": {},
   "outputs": [],
   "source": [
    "FILE = open(corpus).read()\n"
   ]
  },
  {
   "cell_type": "code",
   "execution_count": 12,
   "metadata": {},
   "outputs": [],
   "source": [
    "def generate_by_pro(text_corpus, length = 20):\n",
    "    return ''.join(random.sample(text_corpus, length))"
   ]
  },
  {
   "cell_type": "code",
   "execution_count": 15,
   "metadata": {},
   "outputs": [
    {
     "data": {
      "text/plain": [
       "'气推国所相线举队完国位系业侯型立联成者中'"
      ]
     },
     "execution_count": 15,
     "metadata": {},
     "output_type": "execute_result"
    }
   ],
   "source": [
    "generate_by_pro(FILE)"
   ]
  },
  {
   "cell_type": "code",
   "execution_count": 17,
   "metadata": {},
   "outputs": [
    {
     "data": {
      "text/plain": [
       "'此外自本周6月12日起除小米手机6等15款机型外其余机型已暂停更新发布含开发版体验版内测稳定版暂不受'"
      ]
     },
     "execution_count": 17,
     "metadata": {},
     "output_type": "execute_result"
    }
   ],
   "source": [
    "FILE[:50]"
   ]
  },
  {
   "cell_type": "code",
   "execution_count": 8,
   "metadata": {},
   "outputs": [],
   "source": [
    "import jieba"
   ]
  },
  {
   "cell_type": "code",
   "execution_count": 19,
   "metadata": {},
   "outputs": [],
   "source": [
    "max_length = 1000000\n",
    "sub_file = FILE[: max_length]"
   ]
  },
  {
   "cell_type": "code",
   "execution_count": 20,
   "metadata": {},
   "outputs": [],
   "source": [
    "def cut(string):\n",
    "    return list(jieba.cut(string))"
   ]
  },
  {
   "cell_type": "code",
   "execution_count": 21,
   "metadata": {},
   "outputs": [
    {
     "name": "stderr",
     "output_type": "stream",
     "text": [
      "Building prefix dict from the default dictionary ...\n",
      "Loading model from cache /var/folders/7z/f6j_h1yx5hlggj5f7ds_t__r0000gn/T/jieba.cache\n",
      "Loading model cost 0.677 seconds.\n",
      "Prefix dict has been built succesfully.\n"
     ]
    }
   ],
   "source": [
    "TOKENS = cut(sub_file)"
   ]
  },
  {
   "cell_type": "code",
   "execution_count": 22,
   "metadata": {},
   "outputs": [
    {
     "data": {
      "text/plain": [
       "532454"
      ]
     },
     "execution_count": 22,
     "metadata": {},
     "output_type": "execute_result"
    }
   ],
   "source": [
    "len(TOKENS)"
   ]
  },
  {
   "cell_type": "code",
   "execution_count": 2,
   "metadata": {},
   "outputs": [],
   "source": [
    "from collections import Counter\n",
    "import matplotlib.pyplot as plt\n",
    "import numpy as np"
   ]
  },
  {
   "cell_type": "code",
   "execution_count": 3,
   "metadata": {},
   "outputs": [],
   "source": [
    "%matplotlib inline"
   ]
  },
  {
   "cell_type": "code",
   "execution_count": 23,
   "metadata": {
    "scrolled": true
   },
   "outputs": [],
   "source": [
    "words_count = Counter(TOKENS)"
   ]
  },
  {
   "cell_type": "code",
   "execution_count": 24,
   "metadata": {},
   "outputs": [],
   "source": [
    "words_with_fre = [f for w, f in words_count.most_common()]"
   ]
  },
  {
   "cell_type": "code",
   "execution_count": 25,
   "metadata": {},
   "outputs": [
    {
     "data": {
      "text/plain": [
       "[28764, 7563, 6529, 4883, 4245, 2531, 2433, 2374, 2114, 1960]"
      ]
     },
     "execution_count": 25,
     "metadata": {},
     "output_type": "execute_result"
    }
   ],
   "source": [
    "words_with_fre[:10]"
   ]
  },
  {
   "cell_type": "code",
   "execution_count": 26,
   "metadata": {},
   "outputs": [
    {
     "data": {
      "text/plain": [
       "[('的', 28764),\n",
       " ('在', 7563),\n",
       " ('了', 6529),\n",
       " ('是', 4883),\n",
       " ('和', 4245),\n",
       " ('也', 2531),\n",
       " ('月', 2433),\n",
       " ('有', 2374),\n",
       " ('将', 2114),\n",
       " ('他', 1960)]"
      ]
     },
     "execution_count": 26,
     "metadata": {},
     "output_type": "execute_result"
    }
   ],
   "source": [
    "words_count.most_common(10)"
   ]
  },
  {
   "cell_type": "code",
   "execution_count": 27,
   "metadata": {
    "scrolled": true
   },
   "outputs": [
    {
     "data": {
      "text/plain": [
       "[<matplotlib.lines.Line2D at 0x1284fe0f0>]"
      ]
     },
     "execution_count": 27,
     "metadata": {},
     "output_type": "execute_result"
    },
    {
     "data": {
      "image/png": "[encoded data removed]",
      "text/plain": [
       "<Figure size 432x288 with 1 Axes>"
      ]
     },
     "metadata": {
      "needs_background": "light"
     },
     "output_type": "display_data"
    }
   ],
   "source": [
    "plt.plot(np.log(np.log(words_with_fre)))"
   ]
  },
  {
   "cell_type": "markdown",
   "metadata": {},
   "source": [
    "# 在大量的文本中出现次数第二多的单词，它出现的概率是出现频率最高的单词的1/2，出现频率第三高的单词的频率是1/3"
   ]
  },
  {
   "cell_type": "code",
   "execution_count": 28,
   "metadata": {},
   "outputs": [
    {
     "data": {
      "text/plain": [
       "['一家', '手机', '最', '情报', '的', '是']"
      ]
     },
     "execution_count": 28,
     "metadata": {},
     "output_type": "execute_result"
    }
   ],
   "source": [
    "list(jieba.cut('一家手机最情报的是'))"
   ]
  },
  {
   "cell_type": "code",
   "execution_count": 29,
   "metadata": {},
   "outputs": [],
   "source": [
    "_2_gram_words = [\n",
    "    TOKENS[ i ] + TOKENS[ i+1 ]  for i in range(len(TOKENS) - 1) #把前后两个单词连接起来\n",
    "]"
   ]
  },
  {
   "cell_type": "code",
   "execution_count": 30,
   "metadata": {
    "scrolled": true
   },
   "outputs": [
    {
     "data": {
      "text/plain": [
       "['此外自', '自本周', '本周6', '6月', '月12', '12日起', '日起除', '除小米', '小米手机', '手机6']"
      ]
     },
     "execution_count": 30,
     "metadata": {},
     "output_type": "execute_result"
    }
   ],
   "source": [
    "_2_gram_words[ : 10 ]"
   ]
  },
  {
   "cell_type": "code",
   "execution_count": 31,
   "metadata": {},
   "outputs": [],
   "source": [
    "_2_gram_word_counts = Counter(_2_gram_words)"
   ]
  },
  {
   "cell_type": "markdown",
   "metadata": {},
   "source": [
    "# Language Model\n",
    "## input : Sentence(w1 ... wn)\n",
    "## output: Pribability ( 0 -1)\n",
    "\n",
    "2-Gram\n",
    "\n",
    "$$ Pr ( sentence ) = Pr( w_1 \\cdot w_2 \\cdots w_n) = \\prod \\frac {count(w_i, w_{i+1})}{count(w_{i+1})} $$"
   ]
  },
  {
   "cell_type": "markdown",
   "metadata": {},
   "source": [
    "1-gram(unigram)\n",
    "\n",
    "$$ P(w_i) = \\frac {C(w_i)} {\\sum_{\\forall k}{C(w_k)}}  =  \\frac {C(w_i)}{N}$$"
   ]
  },
  {
   "cell_type": "markdown",
   "metadata": {},
   "source": [
    "2-gram(Bigram)"
   ]
  },
  {
   "cell_type": "markdown",
   "metadata": {},
   "source": [
    "$$ P(w_{i+1}| w_i) = \\frac {C(w_i,w_{i+1})} {\\sum_{\\forall k}{C(w_i,w_k)}}  =  \\frac {C(w_i,w_{i+1})}{C(w_i)}$$"
   ]
  },
  {
   "cell_type": "code",
   "execution_count": 32,
   "metadata": {},
   "outputs": [],
   "source": [
    "#没见过的单词的处理方法,有可能没见过的单词并不是1。\n",
    "def get_1_gram_count(word):\n",
    "    if word in words_count: return words_count[word]\n",
    "    else:\n",
    "        return words_count.most_common()[-1][-1]"
   ]
  },
  {
   "cell_type": "code",
   "execution_count": 33,
   "metadata": {},
   "outputs": [],
   "source": [
    "def get_2_gram_count(word):\n",
    "    if word in _2_gram_word_counts: return _2_gram_word_counts[word]\n",
    "    else:\n",
    "        return _2_gram_word_counts.most_common()[-1][-1]"
   ]
  },
  {
   "cell_type": "code",
   "execution_count": 34,
   "metadata": {},
   "outputs": [],
   "source": [
    "def get_gram_count(word, wc):\n",
    "    if word in wc : return wc[word]\n",
    "    else:\n",
    "        return wc.most_common()[-1][-1]"
   ]
  },
  {
   "cell_type": "code",
   "execution_count": 35,
   "metadata": {},
   "outputs": [
    {
     "data": {
      "text/plain": [
       "1"
      ]
     },
     "execution_count": 35,
     "metadata": {},
     "output_type": "execute_result"
    }
   ],
   "source": [
    "get_gram_count('XXX', words_count)"
   ]
  },
  {
   "cell_type": "code",
   "execution_count": 36,
   "metadata": {},
   "outputs": [],
   "source": [
    "def two_gram_model(sentence):\n",
    "    tokens = cut(sentence)\n",
    "    probability = 1\n",
    "    for i in range(len(tokens) - 1):\n",
    "        word = tokens[i] #当前的单词\n",
    "        next_word = tokens[ i + 1 ] #next word\n",
    "        \n",
    "        pro = get_gram_count(word + next_word , _2_gram_word_counts ) / get_gram_count( next_word, words_count)\n",
    "        \n",
    "        probability *= pro\n",
    "    return probability\n",
    "        \n",
    "        "
   ]
  },
  {
   "cell_type": "code",
   "execution_count": 37,
   "metadata": {},
   "outputs": [
    {
     "data": {
      "text/plain": [
       "1"
      ]
     },
     "execution_count": 37,
     "metadata": {},
     "output_type": "execute_result"
    }
   ],
   "source": [
    "two_gram_model('我')"
   ]
  }
 ],
 "metadata": {
  "kernelspec": {
   "display_name": "Python 3",
   "language": "python",
   "name": "python3"
  },
  "language_info": {
   "codemirror_mode": {
    "name": "ipython",
    "version": 3
   },
   "file_extension": ".py",
   "mimetype": "text/x-python",
   "name": "python",
   "nbconvert_exporter": "python",
   "pygments_lexer": "ipython3",
   "version": "3.7.2"
  }
 },
 "nbformat": 4,
 "nbformat_minor": 2
}
